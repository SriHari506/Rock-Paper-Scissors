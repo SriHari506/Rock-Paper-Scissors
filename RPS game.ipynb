{
 "cells": [
  {
   "cell_type": "code",
   "execution_count": 1,
   "id": "ed408287",
   "metadata": {},
   "outputs": [
    {
     "name": "stdout",
     "output_type": "stream",
     "text": [
      "Defaulting to user installation because normal site-packages is not writeable\n",
      "Note: you may need to restart the kernel to use updated packages.\n"
     ]
    },
    {
     "name": "stderr",
     "output_type": "stream",
     "text": [
      "DEPRECATION: Loading egg at d:\\program files\\anaconda3\\lib\\site-packages\\vboxapi-1.0-py3.11.egg is deprecated. pip 23.3 will enforce this behaviour change. A possible replacement is to use pip for package installation..\n",
      "ERROR: Could not find a version that satisfies the requirement tkinker (from versions: none)\n",
      "ERROR: No matching distribution found for tkinker\n"
     ]
    }
   ],
   "source": [
    "pip install tkinker"
   ]
  },
  {
   "cell_type": "code",
   "execution_count": 2,
   "id": "47a6838f",
   "metadata": {},
   "outputs": [],
   "source": [
    "from tkinter import *\n",
    "import random\n",
    "import tkinter"
   ]
  },
  {
   "cell_type": "code",
   "execution_count": 3,
   "id": "3e4ca6bc",
   "metadata": {},
   "outputs": [],
   "source": [
    "user = int\n",
    "computer = int\n",
    "win = 0\n",
    "lose = 0"
   ]
  },
  {
   "cell_type": "code",
   "execution_count": 4,
   "id": "97fc46e1",
   "metadata": {},
   "outputs": [],
   "source": [
    "def rps(win, lose, user):\n",
    "    computer = random.randrange(1,4)\n",
    "    if user == computer:\n",
    "        var.set(\"It's a draw. \\n No Points\")  \n",
    "    elif user == 1 and computer == 3:\n",
    "        var.set(\"You chose Rock, I chose Scissors. \\nYou win\")\n",
    "        wins.set(wins.get() + 1)\n",
    "            \n",
    "    elif user == 1 and computer == 2:\n",
    "        var.set(\"You chose Rock, I chose Paper. \\nYou lose\")\n",
    "        lose += 1\n",
    "        wins.set(wins.get() - 1)    \n",
    "    elif user == 2 and computer == 1:\n",
    "        var.set(\"You chose Paper, I chose Rock. \\nYou win\")\n",
    "        wins.set(wins.get() + 1)\n",
    "        wins.set(wins.get() - 1)    \n",
    "    elif user == 2 and computer == 3:\n",
    "        var.set(\"You chose Paper, I chose Scissors. \\nYou lose\")\n",
    "        lose += 1\n",
    "        wins.set(wins.get() - 1)   \n",
    "    elif user == 3 and computer == 1:\n",
    "        var.set(\"You chose Scissors, I chose Rock. \\nYou lose\")\n",
    "        lose += 1\n",
    "        wins.set(wins.get() - 1)    \n",
    "    elif user == 3 and computer == 2:\n",
    "        var.set(\"You chose Scissors, I chose Paper. \\nYou win\")\n",
    "        wins.set(wins.get() + 1)\n",
    "        \n",
    "    elif user == 4 and computer == 3:\n",
    "        var.set(\"You chose Spock, I chose Scissors. \\nYou win\")\n",
    "        wins.set(wins.get() + 1)\n",
    "        \n",
    "    elif user == 4 and computer == 1:\n",
    "        var.set(\"You chose Spock, I chose Rock. \\nYou win\")\n",
    "        wins.set(wins.get() + 1)\n",
    "        \n",
    "    elif user == 4 and computer == 5:\n",
    "        var.set(\"You chose Spock, I chose Lizard. \\nYou lose\")\n",
    "        lose +=1\n",
    "        wins.set(wins.get() - 1)\n",
    "    elif user == 4 and computer == 2:\n",
    "        var.set(\"You chose Spock, I chose Paper. \\nYou lose\")\n",
    "        lose +=1\n",
    "        wins.set(wins.get() - 1)\n",
    "    elif user == 5 and computer == 1:\n",
    "        var.set(\"You chose Lizard, I chose Rock. \\nYou lose\")\n",
    "        lose +=1\n",
    "        wins.set(wins.get() - 1)\n",
    "    elif user == 5 and computer == 2:\n",
    "        var.set(\"You chose Lizard, I chose Paper. \\nYou win\")\n",
    "        wins.set(wins.get() + 1)\n",
    "        \n",
    "    elif user == 5 and computer == 3:\n",
    "        var.set(\"You chose Lizard, I chose Scissors. \\nYou lose\")\n",
    "        lose +=1\n",
    "        wins.set(wins.get() - 1)\n",
    "    elif user == 5 and computer == 4:\n",
    "        var.set(\"You chose Lizard, I chose Spock. \\nYou win\")\n",
    "        wins.set(wins.get() + 1)\n",
    "        \n",
    "    elif user == 1 and computer == 4:\n",
    "        var.set(\"You chose Rock, I chose Spock. \\nYou lose\")\n",
    "        lose +=1\n",
    "        wins.set(wins.get() - 1)\n",
    "    elif user == 2 and computer == 4:\n",
    "        var.set(\"You chose Paper, I chose Spock. \\nYou win\")\n",
    "        wins.set(wins.get() + 1)\n",
    "        \n",
    "    elif user == 3 and computer == 4:\n",
    "        var.set(\"You chose Scissors, I chose Spock. \\nYou lose\")\n",
    "        lose +=1\n",
    "        wins.set(wins.get() - 1)\n",
    "    elif user == 5 and computer == 4:\n",
    "        var.set(\"You chose Lizard, I chose Spock. \\nYou win\")\n",
    "        wins.set(wins.get() + 1)\n",
    "        \n",
    "    elif user == 1 and computer == 5:\n",
    "        var.set(\"You chose Rock, I chose Lizard. \\nYou win\")\n",
    "        wins.set(wins.get() + 1)\n",
    "        \n",
    "    elif user == 2 and computer == 5:\n",
    "        var.set(\"You chose Paper, I chose Lizard. \\nYou lose\")\n",
    "        lose +=1\n",
    "        wins.set(wins.get() - 1)\n",
    "    elif user == 3 and computer == 5:\n",
    "        var.set(\"You chose Scissors, I chose Lizard. \\nYou win\")\n",
    "        wins.set(wins.get() + 1)\n",
    "        \n",
    "    elif user == 4 and computer == 5:\n",
    "        var.set(\"You chose Spock, I chose Lizard. \\nYou lose\")\n",
    "        lose +=1\n",
    "        wins.set(wins.get() - 1)  \n",
    "    else:\n",
    "        var.set(\"Thanks for playing. \\nYou have \" + str(win) + \" wins and \" + str(lose) + \" losses.\")\n",
    "\n"
   ]
  },
  {
   "cell_type": "code",
   "execution_count": 6,
   "id": "400cf5cd",
   "metadata": {},
   "outputs": [],
   "source": [
    "top = tkinter.Tk()\n",
    "top.wm_title(\"RPS Python GUI\")\n",
    "top.minsize(width=350, height=150)\n",
    "top.maxsize(width=350, height=150)\n",
    "B1 = tkinter.Button(top, text =\"Rock\", command = lambda: rps(win, lose, 1))\n",
    "B1.grid(row=0, column=1)\n",
    "B2 = tkinter.Button(top, text =\"Paper\", command = lambda: rps(win, lose, 2))\n",
    "B2.grid(row=0, column=2)\n",
    "B3 = tkinter.Button(top, text =\"Scissors\", command = lambda: rps(win, lose, 3))\n",
    "B3.grid(row=0, column=3)\n",
    "space = tkinter.Label(top, text=\"\")\n",
    "space.grid(row=1)\n",
    "var = StringVar()\n",
    "var.set('Welcome!')\n",
    "l = Label(top, textvariable = var)\n",
    "l.grid(row=2, column=2)\n",
    "wins = IntVar()\n",
    "wins.set(win)\n",
    "w = Label(top, textvariable = wins)\n",
    "w.grid(row=4, column=2)\n",
    "labeled = Label(top, text = \"Score:\")\n",
    "labeled.grid(row=3, column=2)\n",
    "copy = Label(top, text= \"RPS GUI on Tkinter on Python. By Praveen 2016\")\n",
    "copy.grid(row=5, column=2)\n",
    "top.mainloop()\n"
   ]
  },
  {
   "cell_type": "code",
   "execution_count": null,
   "id": "fc134aed",
   "metadata": {},
   "outputs": [],
   "source": []
  },
  {
   "cell_type": "code",
   "execution_count": null,
   "id": "7a424234",
   "metadata": {},
   "outputs": [],
   "source": []
  }
 ],
 "metadata": {
  "kernelspec": {
   "display_name": "Python 3 (ipykernel)",
   "language": "python",
   "name": "python3"
  },
  "language_info": {
   "codemirror_mode": {
    "name": "ipython",
    "version": 3
   },
   "file_extension": ".py",
   "mimetype": "text/x-python",
   "name": "python",
   "nbconvert_exporter": "python",
   "pygments_lexer": "ipython3",
   "version": "3.11.5"
  }
 },
 "nbformat": 4,
 "nbformat_minor": 5
}
